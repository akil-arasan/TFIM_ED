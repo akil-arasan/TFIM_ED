{
 "cells": [
  {
   "cell_type": "code",
   "execution_count": null,
   "id": "30134b56-62e0-4b31-8749-ed9f7647c782",
   "metadata": {},
   "outputs": [],
   "source": [
    "import numpy as np\n",
    "import pandas as pd\n",
    "from scipy.linalg import eigh\n",
    "from scipy.sparse import kron, identity, csr_matrix\n",
    "from scipy.sparse.linalg import eigsh  # sparse diagonalization\n",
    "from tqdm import tqdm"
   ]
  },
  {
   "cell_type": "code",
   "execution_count": null,
   "id": "399b059d-a003-4977-aa51-b9fe018a1fad",
   "metadata": {},
   "outputs": [],
   "source": [
    "# Pauli matrices (dense)\n",
    "I = np.eye(2)\n",
    "sx = np.array([[0, 1], [1, 0]])\n",
    "sz = np.array([[1, 0], [0, -1]])\n",
    "\n",
    "def kron_N_exact(ops):\n",
    "    result = ops[0]\n",
    "    for op in ops[1:]:\n",
    "        result = np.kron(result, op)\n",
    "    return result\n",
    "\n",
    "def build_operator_exact(pauli, site, N):\n",
    "    ops = [I] * N\n",
    "    ops[site] = pauli\n",
    "    return kron_N_exact(ops)\n",
    "\n",
    "def tfim_hamiltonian_exact(N, J=1.0, h=1.0):\n",
    "    dim = 2**N\n",
    "    H = np.zeros((dim, dim), dtype=np.float64)\n",
    "\n",
    "    for i in range(N-1):\n",
    "        H -= J * np.dot(build_operator_exact(sz, i, N), build_operator_exact(sz, i+1, N))\n",
    "\n",
    "    for i in range(N):\n",
    "        H -= h * build_operator_exact(sx, i, N)\n",
    "\n",
    "    return H\n",
    "\n",
    "def solve_tfim_exact(N, J=1.0, h=1.0):\n",
    "    \"\"\"for N < 13 only\"\"\"\n",
    "    H = tfim_hamiltonian_exact(N, J, h)\n",
    "    eigvals, eigvecs = eigh(H)\n",
    "    return eigvals, eigvecs\n",
    "\n",
    "def run_tfim_scan_exact(N_range, h_values, J=1.0):\n",
    "    results = []\n",
    "    total_steps = len(N_range) * len(h_values)\n",
    "\n",
    "    with tqdm(total=total_steps, desc=\"Running TFIM exact simulations\") as pbar:\n",
    "        for N in N_range:\n",
    "            for h in h_values:\n",
    "                eigvals, eigvecs = solve_tfim_exact(N=N, J=J, h=h)\n",
    "                E0 = eigvals[0]\n",
    "                results.append({\"N\": N, \"h\": h, \"E0\": E0})\n",
    "                pbar.update(1)\n",
    "    \n",
    "    df = pd.DataFrame(results)\n",
    "    \n",
    "    return df\n",
    "\n",
    "if __name__ == \"__main__\":\n",
    "    h_values = [0.0, 0.1, 0.2, 0.3, 0.4, 0.5, 0.6, 0.7, 0.8, 0.9, 1.0, 1.1, 1.2, 10.0, 100.0] \n",
    "    \n",
    "    N_range = range(2, 12)  # keep small for exact diag (2^N grows fast!)\n",
    "    df1 = run_tfim_scan_exact(N_range=N_range, h_values=h_values)"
   ]
  },
  {
   "cell_type": "code",
   "execution_count": null,
   "id": "f8b87718-b222-4e57-9ce5-658a45256352",
   "metadata": {},
   "outputs": [],
   "source": [
    "# Pauli matrices as sparse\n",
    "sx = csr_matrix(np.array([[0, 1], [1, 0]]))\n",
    "sz = csr_matrix(np.array([[1, 0], [0, -1]]))\n",
    "I  = identity(2, format='csr')\n",
    "\n",
    "def kron_N(ops):\n",
    "    \"\"\"Kronecker product of a list of operators\"\"\"\n",
    "    result = ops[0]\n",
    "    for op in ops[1:]:\n",
    "        result = kron(result, op, format='csr')\n",
    "    return result\n",
    "\n",
    "def build_operator(pauli, site, N):\n",
    "    \"\"\"Build an N-qubit operator with `pauli` at `site`, Identity elsewhere\"\"\"\n",
    "    ops = [I] * N\n",
    "    ops[site] = pauli\n",
    "    return kron_N(ops)\n",
    "    \n",
    "def tfim_hamiltonian(N, J=1.0, h=0.0):\n",
    "    H = csr_matrix((2**N, 2**N), dtype=np.float64)\n",
    "\n",
    "    # Interaction terms: -J * σ^z_i σ^z_{i+1}\n",
    "    for i in range(N - 1):  # open boundary\n",
    "        H -= J * build_operator(sz, i, N).dot(build_operator(sz, i + 1, N))\n",
    "\n",
    "    # Field terms: -h * σ^x_i\n",
    "    for i in range(N):\n",
    "        H -= h * build_operator(sx, i, N)\n",
    "\n",
    "    return H\n",
    "\n",
    "def solve_tfim(N, J=1.0, h=1.0, k=1):\n",
    "    H = tfim_hamiltonian(N, J, h)\n",
    "    eigvals, eigvecs = eigsh(H, k, which='SA', tol=1e-12, maxiter=5000)  # Smallest algebraic\n",
    "    return eigvals, eigvecs\n",
    "\n",
    "def run_tfim_scan(N_range, h_values, J=1.0):\n",
    "    results = []\n",
    "    total_steps = len(N_range) * len(h_values)\n",
    "\n",
    "    with tqdm(total=total_steps, desc=\"Running TFIM simulations\") as pbar:\n",
    "        for N in N_range:\n",
    "            for h in h_values:\n",
    "                eigvals, eigvecs = solve_tfim(N=N, J=J, h=h)\n",
    "                E0 = eigvals[0]\n",
    "                results.append({\"N\": N, \"h\": h, \"E0\": E0})\n",
    "                pbar.update(1)\n",
    "\n",
    "    df = pd.DataFrame(results)\n",
    "\n",
    "    return df\n",
    "\n",
    "if __name__ == \"__main__\":\n",
    "    N_range = range(12, 20)\n",
    "    h_values = [0.0, 0.1, 0.2, 0.3, 0.4, 0.5, 0.6, 0.7, 0.8, 0.9, 1.0, 1.1, 1.2, 10.0, 100.0] #[round(x * 0.1, 1) for x in range(11)]  + [10.0, 100.0]\n",
    "    \n",
    "    df2 = run_tfim_scan(N_range=N_range, h_values=h_values)"
   ]
  },
  {
   "cell_type": "code",
   "execution_count": null,
   "id": "ab8e4af8-f533-4897-b82c-190460963cd6",
   "metadata": {},
   "outputs": [],
   "source": [
    "df_results = pd.concat([df1, df2], ignore_index=True)"
   ]
  },
  {
   "cell_type": "code",
   "execution_count": null,
   "id": "636c4c2b-e632-4603-8a59-99e5d5309700",
   "metadata": {},
   "outputs": [],
   "source": [
    "# Pivot the table\n",
    "table = df_results.pivot(index=\"N\", columns=\"h\", values=\"E0\")\n",
    "\n",
    "# Reset index so 'N' becomes a normal column, not just the index\n",
    "table = table.reset_index()\n",
    "\n",
    "# Save to CSV with 'N' as the first named column\n",
    "table.to_csv(\"tfim_ED_results.csv\", index=False)"
   ]
  },
  {
   "cell_type": "markdown",
   "id": "09d02f52-af6d-498e-b47a-03b618d2bc7d",
   "metadata": {},
   "source": [
    "## Access ground state energy for a specific N in a list:"
   ]
  },
  {
   "cell_type": "code",
   "execution_count": null,
   "id": "425f3323-5fc1-4c2d-8477-d280d4b9d76f",
   "metadata": {},
   "outputs": [],
   "source": [
    "E0_list = df_results[df_results[\"N\"] == 4].sort_values(\"h\")[\"E0\"].tolist()\n",
    "print(E0_list)"
   ]
  },
  {
   "cell_type": "markdown",
   "id": "49ec7679-e229-40f2-9667-8bf2de7dc24c",
   "metadata": {},
   "source": [
    "## Access all results for a specific N:"
   ]
  },
  {
   "cell_type": "code",
   "execution_count": null,
   "id": "31c28346-3a7b-49fe-bd0b-0da41b286c30",
   "metadata": {},
   "outputs": [],
   "source": [
    "pd.set_option('display.float_format', lambda x: f'{x:.16f}')\n",
    "df_results[df_results[\"N\"] == 4] "
   ]
  },
  {
   "cell_type": "markdown",
   "id": "65feea68-43fe-47e9-9d72-5376192727e2",
   "metadata": {},
   "source": [
    "## Access a single entry for specific N and h:"
   ]
  },
  {
   "cell_type": "code",
   "execution_count": null,
   "id": "3ec42580-4b8f-4f67-8086-5ead12462404",
   "metadata": {},
   "outputs": [],
   "source": [
    "df_results[(df_results[\"N\"] == 4) & (df_results[\"h\"] == 0.5)]"
   ]
  },
  {
   "cell_type": "markdown",
   "id": "0b5ae443-e554-41e6-8a13-b994f0164d4b",
   "metadata": {},
   "source": [
    "## Extract only E0 for specific N and h:"
   ]
  },
  {
   "cell_type": "code",
   "execution_count": null,
   "id": "b3d42648-84ed-4329-949a-e246abae2e93",
   "metadata": {},
   "outputs": [],
   "source": [
    "E0_value = df_results[(df_results[\"N\"] == 4) & (df_results[\"h\"] == 1)][\"E0\"].values[0]\n",
    "print(E0_value)"
   ]
  }
 ],
 "metadata": {
  "kernelspec": {
   "display_name": "Python 3 (ipykernel)",
   "language": "python",
   "name": "python3"
  },
  "language_info": {
   "codemirror_mode": {
    "name": "ipython",
    "version": 3
   },
   "file_extension": ".py",
   "mimetype": "text/x-python",
   "name": "python",
   "nbconvert_exporter": "python",
   "pygments_lexer": "ipython3",
   "version": "3.13.5"
  }
 },
 "nbformat": 4,
 "nbformat_minor": 5
}
